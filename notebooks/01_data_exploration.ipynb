import os
import json
import pandas as pd
import matplotlib.pyplot as plt
from matplotlib.patches import Rectangle
from PIL import Image
import random

# --- Configuration ---
# Adjust this path to where your SROIE dataset is located
# It should point to the directory containing 'test', 'train', etc.
DATA_DIR = '../data/raw/SROIE2019/' 
TRAIN_DIR = os.path.join(DATA_DIR, 'train')

# Define paths for the different data components
IMG_DIR = os.path.join(TRAIN_DIR, 'img')
BOX_DIR = os.path.join(TRAIN_DIR, 'box')
ENTITIES_DIR = os.path.join(TRAIN_DIR, 'entities')

def load_entities(entities_dir):
    """
    Loads all the key entity JSON files from the entities directory
    into a single Pandas DataFrame.
    """
    records = []
    for filename in sorted(os.listdir(entities_dir)):
        if filename.endswith('.txt'):
            file_path = os.path.join(entities_dir, filename)
            with open(file_path, 'r', encoding='utf-8') as f:
                # The entity files are JSON, but have a .txt extension
                data = json.load(f)
                data['filename'] = filename.replace('.txt', '')
                records.append(data)
    
    df = pd.DataFrame(records)
    # Set the filename as the index for easy lookup
    df.set_index('filename', inplace=True)
    return df

def parse_ocr_box(box_file_path):
    """
    Parses a single OCR box annotation file.
    Each line contains coordinates and the transcribed text.
    """
    with open(box_file_path, 'r', encoding='utf-8') as f:
        lines = f.readlines()
    
    ocr_data = []
    for line in lines:
        parts = line.strip().split(',', 8)
        if len(parts) < 9:
            continue # Skip malformed lines

        # The first 8 parts are the 4 points of the bounding box
        coords = [int(p) for p in parts[:8]]
        # The 9th part is the text itself
        text = parts[8]
        
        # Create a simple bounding box (min_x, min_y, max_x, max_y)
        min_x = min(coords[0], coords[2], coords[4], coords[6])
        min_y = min(coords[1], coords[3], coords[5], coords[7])
        max_x = max(coords[0], coords[2], coords[4], coords[6])
        max_y = max(coords[1], coords[3], coords[5], coords[7])
        
        ocr_data.append({
            'text': text,
            'box': [min_x, min_y, max_x, max_y]
        })
    return ocr_data


def visualize_receipt(image_path, ocr_data, entities):
    """
    Displays a receipt image and overlays the OCR bounding boxes.
    """
    img = Image.open(image_path).convert('RGB')
    
    plt.figure(figsize=(12, 18))
    ax = plt.gca()
    ax.imshow(img)
    
    print("--- Key Entities ---")
    print(entities)
    print("\n--- Full OCR Text ---")
    
    full_text = []
    for item in ocr_data:
        box = item['box']
        text = item['text']
        full_text.append(text)
        
        # Draw bounding box
        width = box[2] - box[0]
        height = box[3] - box[1]
        rect = Rectangle((box[0], box[1]), width, height, linewidth=1, edgecolor='r', facecolor='none')
        ax.add_patch(rect)
        
        # Add text label
        # ax.text(box[0], box[1] - 10, text, color='blue', fontsize=8)

    print("\n".join(full_text))
    
    plt.axis('off')
    plt.show()


# --- Main Execution ---

# 1. Load the key information (ground truth)
print("Loading entities...")
entities_df = load_entities(ENTITIES_DIR)
print(f"Loaded {len(entities_df)} entity annotations.")
print("Sample of the entities DataFrame:")
print(entities_df.head())

# 2. Select a random example to explore
random_filename = random.choice(entities_df.index)
print(f"\nExploring random receipt: {random_filename}")

# 3. Construct the full paths for the selected receipt
image_file = os.path.join(IMG_DIR, f"{random_filename}.jpg")
box_file = os.path.join(BOX_DIR, f"{random_filename}.txt")

# 4. Get the data for the selected receipt
receipt_entities = entities_df.loc[random_filename]
receipt_ocr_data = parse_ocr_box(box_file)

# 5. Visualize the receipt and its data
visualize_receipt(image_file, receipt_ocr_data, receipt_entities)

