{
 "cells": [
  {
   "cell_type": "code",
   "execution_count": 1,
   "id": "f556a744",
   "metadata": {},
   "outputs": [],
   "source": [
    "import re\n",
    "\n",
    "# Regex for finding dates (e.g., 24/12/2018, 24-12-2018, Dec 24, 2018)\n",
    "# This pattern looks for DD/MM/YYYY or DD-MM-YYYY formats.\n",
    "date_pattern = r'\\b(\\d{1,2}[/-]\\d{1,2}[/-]\\d{2,4})\\b'\n",
    "\n",
    "# Regex for finding a total amount.\n",
    "# This looks for words like \"TOTAL\", \"AMOUNT\", \"CASH\" followed by a number.\n",
    "# It's a bit more complex, using a case-insensitive search.\n",
    "total_pattern = r'(?i)(?:total|amount|cash|due)\\s*[:]?\\s*(\\d+\\.\\d{2})'"
   ]
  },
  {
   "cell_type": "code",
   "execution_count": 2,
   "id": "46bd180f",
   "metadata": {},
   "outputs": [],
   "source": [
    "def extract_with_regex(full_text):\n",
    "    extracted_data = {\n",
    "        'date': None,\n",
    "        'total': None\n",
    "    }\n",
    "\n",
    "    # Find date\n",
    "    date_match = re.search(date_pattern, full_text)\n",
    "    if date_match:\n",
    "        extracted_data['date'] = date_match.group(1)\n",
    "\n",
    "    # Find total\n",
    "    total_match = re.search(total_pattern, full_text)\n",
    "    if total_match:\n",
    "        extracted_data['total'] = total_match.group(1)\n",
    "\n",
    "    return extracted_data"
   ]
  },
  {
   "cell_type": "code",
   "execution_count": null,
   "id": "5e1a4f01",
   "metadata": {},
   "outputs": [],
   "source": []
  }
 ],
 "metadata": {
  "kernelspec": {
   "display_name": "Python 3",
   "language": "python",
   "name": "python3"
  },
  "language_info": {
   "codemirror_mode": {
    "name": "ipython",
    "version": 3
   },
   "file_extension": ".py",
   "mimetype": "text/x-python",
   "name": "python",
   "nbconvert_exporter": "python",
   "pygments_lexer": "ipython3",
   "version": "3.12.5"
  }
 },
 "nbformat": 4,
 "nbformat_minor": 5
}
